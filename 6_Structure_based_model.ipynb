{
  "nbformat": 4,
  "nbformat_minor": 0,
  "metadata": {
    "colab": {
      "provenance": []
    },
    "kernelspec": {
      "name": "python3",
      "display_name": "Python 3"
    },
    "language_info": {
      "name": "python"
    }
  },
  "cells": [
    {
      "cell_type": "code",
      "source": [
        "import networkx as nx\n",
        "from networkx.algorithms.community.centrality import girvan_newman\n",
        "from networkx.algorithms.community.kclique import k_clique_communities\n",
        "import matplotlib.pyplot as plt"
      ],
      "metadata": {
        "id": "qSbT-xNqIq8R"
      },
      "execution_count": 1,
      "outputs": []
    },
    {
      "cell_type": "code",
      "source": [
        "tG = nx.read_edgelist('tedges.txt')"
      ],
      "metadata": {
        "id": "eUHlZM2gIuHR",
        "colab": {
          "base_uri": "https://localhost:8080/",
          "height": 287
        },
        "outputId": "7a1d1dc4-e222-4922-e395-efded4c82c65"
      },
      "execution_count": 2,
      "outputs": [
        {
          "output_type": "error",
          "ename": "FileNotFoundError",
          "evalue": "[Errno 2] No such file or directory: 'tedges.txt'",
          "traceback": [
            "\u001b[0;31m---------------------------------------------------------------------------\u001b[0m",
            "\u001b[0;31mFileNotFoundError\u001b[0m                         Traceback (most recent call last)",
            "\u001b[0;32m<ipython-input-2-deebb99e318e>\u001b[0m in \u001b[0;36m<cell line: 1>\u001b[0;34m()\u001b[0m\n\u001b[0;32m----> 1\u001b[0;31m \u001b[0mtG\u001b[0m \u001b[0;34m=\u001b[0m \u001b[0mnx\u001b[0m\u001b[0;34m.\u001b[0m\u001b[0mread_edgelist\u001b[0m\u001b[0;34m(\u001b[0m\u001b[0;34m'tedges.txt'\u001b[0m\u001b[0;34m)\u001b[0m\u001b[0;34m\u001b[0m\u001b[0;34m\u001b[0m\u001b[0m\n\u001b[0m",
            "\u001b[0;32m/usr/local/lib/python3.10/dist-packages/networkx/utils/decorators.py\u001b[0m in \u001b[0;36mfunc\u001b[0;34m(_argmap__wrapper, *args, **kwargs)\u001b[0m\n\u001b[1;32m    768\u001b[0m \u001b[0;34m\u001b[0m\u001b[0m\n\u001b[1;32m    769\u001b[0m         \u001b[0;32mdef\u001b[0m \u001b[0mfunc\u001b[0m\u001b[0;34m(\u001b[0m\u001b[0;34m*\u001b[0m\u001b[0margs\u001b[0m\u001b[0;34m,\u001b[0m \u001b[0m__wrapper\u001b[0m\u001b[0;34m=\u001b[0m\u001b[0;32mNone\u001b[0m\u001b[0;34m,\u001b[0m \u001b[0;34m**\u001b[0m\u001b[0mkwargs\u001b[0m\u001b[0;34m)\u001b[0m\u001b[0;34m:\u001b[0m\u001b[0;34m\u001b[0m\u001b[0;34m\u001b[0m\u001b[0m\n\u001b[0;32m--> 770\u001b[0;31m             \u001b[0;32mreturn\u001b[0m \u001b[0margmap\u001b[0m\u001b[0;34m.\u001b[0m\u001b[0m_lazy_compile\u001b[0m\u001b[0;34m(\u001b[0m\u001b[0m__wrapper\u001b[0m\u001b[0;34m)\u001b[0m\u001b[0;34m(\u001b[0m\u001b[0;34m*\u001b[0m\u001b[0margs\u001b[0m\u001b[0;34m,\u001b[0m \u001b[0;34m**\u001b[0m\u001b[0mkwargs\u001b[0m\u001b[0;34m)\u001b[0m\u001b[0;34m\u001b[0m\u001b[0;34m\u001b[0m\u001b[0m\n\u001b[0m\u001b[1;32m    771\u001b[0m \u001b[0;34m\u001b[0m\u001b[0m\n\u001b[1;32m    772\u001b[0m         \u001b[0;31m# standard function-wrapping stuff\u001b[0m\u001b[0;34m\u001b[0m\u001b[0;34m\u001b[0m\u001b[0m\n",
            "\u001b[0;32m/usr/local/lib/python3.10/dist-packages/networkx/utils/decorators.py\u001b[0m in \u001b[0;36margmap_read_edgelist_1\u001b[0;34m(path, comments, delimiter, create_using, nodetype, data, edgetype, encoding, backend, **backend_kwargs)\u001b[0m\n\u001b[1;32m      1\u001b[0m \u001b[0;32mimport\u001b[0m \u001b[0mbz2\u001b[0m\u001b[0;34m\u001b[0m\u001b[0;34m\u001b[0m\u001b[0m\n\u001b[1;32m      2\u001b[0m \u001b[0;32mimport\u001b[0m \u001b[0mcollections\u001b[0m\u001b[0;34m\u001b[0m\u001b[0;34m\u001b[0m\u001b[0m\n\u001b[0;32m----> 3\u001b[0;31m \u001b[0;32mimport\u001b[0m \u001b[0mgzip\u001b[0m\u001b[0;34m\u001b[0m\u001b[0;34m\u001b[0m\u001b[0m\n\u001b[0m\u001b[1;32m      4\u001b[0m \u001b[0;32mimport\u001b[0m \u001b[0minspect\u001b[0m\u001b[0;34m\u001b[0m\u001b[0;34m\u001b[0m\u001b[0m\n\u001b[1;32m      5\u001b[0m \u001b[0;32mimport\u001b[0m \u001b[0mitertools\u001b[0m\u001b[0;34m\u001b[0m\u001b[0;34m\u001b[0m\u001b[0m\n",
            "\u001b[0;32m/usr/local/lib/python3.10/dist-packages/networkx/utils/decorators.py\u001b[0m in \u001b[0;36m_open_file\u001b[0;34m(path)\u001b[0m\n\u001b[1;32m    191\u001b[0m             \u001b[0;32mreturn\u001b[0m \u001b[0mpath\u001b[0m\u001b[0;34m,\u001b[0m \u001b[0;32mlambda\u001b[0m\u001b[0;34m:\u001b[0m \u001b[0;32mNone\u001b[0m\u001b[0;34m\u001b[0m\u001b[0;34m\u001b[0m\u001b[0m\n\u001b[1;32m    192\u001b[0m \u001b[0;34m\u001b[0m\u001b[0m\n\u001b[0;32m--> 193\u001b[0;31m         \u001b[0mfobj\u001b[0m \u001b[0;34m=\u001b[0m \u001b[0m_dispatch_dict\u001b[0m\u001b[0;34m[\u001b[0m\u001b[0mext\u001b[0m\u001b[0;34m]\u001b[0m\u001b[0;34m(\u001b[0m\u001b[0mpath\u001b[0m\u001b[0;34m,\u001b[0m \u001b[0mmode\u001b[0m\u001b[0;34m=\u001b[0m\u001b[0mmode\u001b[0m\u001b[0;34m)\u001b[0m\u001b[0;34m\u001b[0m\u001b[0;34m\u001b[0m\u001b[0m\n\u001b[0m\u001b[1;32m    194\u001b[0m         \u001b[0;32mreturn\u001b[0m \u001b[0mfobj\u001b[0m\u001b[0;34m,\u001b[0m \u001b[0;32mlambda\u001b[0m\u001b[0;34m:\u001b[0m \u001b[0mfobj\u001b[0m\u001b[0;34m.\u001b[0m\u001b[0mclose\u001b[0m\u001b[0;34m(\u001b[0m\u001b[0;34m)\u001b[0m\u001b[0;34m\u001b[0m\u001b[0;34m\u001b[0m\u001b[0m\n\u001b[1;32m    195\u001b[0m \u001b[0;34m\u001b[0m\u001b[0m\n",
            "\u001b[0;31mFileNotFoundError\u001b[0m: [Errno 2] No such file or directory: 'tedges.txt'"
          ]
        }
      ]
    },
    {
      "cell_type": "code",
      "source": [
        "communities = list(k_clique_communities(tG, 3))"
      ],
      "metadata": {
        "id": "7QlzJzxcI1AY"
      },
      "execution_count": null,
      "outputs": []
    },
    {
      "cell_type": "code",
      "source": [
        "%matplotlib inline"
      ],
      "metadata": {
        "id": "GFM8H67lI6Yw"
      },
      "execution_count": null,
      "outputs": []
    },
    {
      "cell_type": "code",
      "source": [
        "pos = nx.spring_layout(tG)\n",
        "colors = [\"violet\", \"black\", \"orange\", \"cyan\", \"blue\", \"green\", \"yellow\", \"indigo\", \"pink\", \"red\"]\n",
        "for i in range(len(communities)):\n",
        "    graph = communities[i]\n",
        "    node_list = [node for node in graph]\n",
        "    nx.draw(tG, pos, nodelist=node_list, node_color=colors[i%10], node_size=50, alpha=0.8)"
      ],
      "metadata": {
        "id": "nNYSAv9NI8ep"
      },
      "execution_count": null,
      "outputs": []
    },
    {
      "cell_type": "code",
      "source": [
        "def community_layout(g, partition):\n",
        "    \"\"\"\n",
        "    Compute the layout for a modular graph.\n",
        "\n",
        "\n",
        "    Arguments:\n",
        "    ----------\n",
        "    g -- networkx.Graph or networkx.DiGraph instance\n",
        "        graph to plot\n",
        "\n",
        "    partition -- dict mapping int node -> int community\n",
        "        graph partitions\n",
        "\n",
        "\n",
        "    Returns:\n",
        "    --------\n",
        "    pos -- dict mapping int node -> (float x, float y)\n",
        "        node positions\n",
        "\n",
        "    \"\"\"\n",
        "\n",
        "    pos_communities = _position_communities(g, partition, scale=3.)\n",
        "\n",
        "    pos_nodes = _position_nodes(g, partition, scale=1.)\n",
        "\n",
        "    # combine positions\n",
        "    pos = dict()\n",
        "    for node in g.nodes():\n",
        "        pos[node] = pos_communities[node] + pos_nodes[node]\n",
        "\n",
        "    return pos\n",
        "\n",
        "def _position_communities(g, partition, **kwargs):\n",
        "\n",
        "    # create a weighted graph, in which each node corresponds to a community,\n",
        "    # and each edge weight to the number of edges between communities\n",
        "    between_community_edges = _find_between_community_edges(g, partition)\n",
        "\n",
        "    communities = set(partition.values())\n",
        "    hypergraph = nx.DiGraph()\n",
        "    hypergraph.add_nodes_from(communities)\n",
        "    for (ci, cj), edges in between_community_edges.items():\n",
        "        hypergraph.add_edge(ci, cj, weight=len(edges))\n",
        "\n",
        "    # find layout for communities\n",
        "    pos_communities = nx.spring_layout(hypergraph, **kwargs)\n",
        "\n",
        "    # set node positions to position of community\n",
        "    pos = dict()\n",
        "    for node, community in partition.items():\n",
        "        pos[node] = pos_communities[community]\n",
        "\n",
        "    return pos\n",
        "\n",
        "def _find_between_community_edges(g, partition):\n",
        "\n",
        "    edges = dict()\n",
        "\n",
        "    for (ni, nj) in g.edges():\n",
        "        ci = partition[ni]\n",
        "        cj = partition[nj]\n",
        "\n",
        "        if ci != cj:\n",
        "            try:\n",
        "                edges[(ci, cj)] += [(ni, nj)]\n",
        "            except KeyError:\n",
        "                edges[(ci, cj)] = [(ni, nj)]\n",
        "\n",
        "    return edges\n",
        "\n",
        "def _position_nodes(g, partition, **kwargs):\n",
        "    \"\"\"\n",
        "    Positions nodes within communities.\n",
        "    \"\"\"\n",
        "\n",
        "    communities = dict()\n",
        "    for node, community in partition.items():\n",
        "        try:\n",
        "            communities[community] += [node]\n",
        "        except KeyError:\n",
        "            communities[community] = [node]\n",
        "\n",
        "    pos = dict()\n",
        "    for ci, nodes in communities.items():\n",
        "        subgraph = g.subgraph(nodes)\n",
        "        pos_subgraph = nx.spring_layout(subgraph, **kwargs)\n",
        "        pos.update(pos_subgraph)\n",
        "\n",
        "    return pos"
      ],
      "metadata": {
        "id": "crS1H2V2JKFh"
      },
      "execution_count": null,
      "outputs": []
    },
    {
      "cell_type": "code",
      "source": [
        "dict_communities = {}\n",
        "\n",
        "for i, c in enumerate(communities):\n",
        "    for node in c:\n",
        "        dict_communities[node] = i + 1\n",
        "\n",
        "for node in tG:\n",
        "    if node not in dict_communities.keys():\n",
        "        dict_communities[node] = -1"
      ],
      "metadata": {
        "id": "XME1pDXKJQkw"
      },
      "execution_count": null,
      "outputs": []
    },
    {
      "cell_type": "code",
      "source": [
        "pos = community_layout(tG, dict_communities)"
      ],
      "metadata": {
        "id": "ILs20DJqJSRB"
      },
      "execution_count": null,
      "outputs": []
    },
    {
      "cell_type": "code",
      "source": [
        "from matplotlib import cm\n",
        "colors = []\n",
        "for node in tG.nodes:\n",
        "    colors.append(cm.Set1(dict_communities[node]))"
      ],
      "metadata": {
        "id": "6Sd0yS2KJTvp"
      },
      "execution_count": null,
      "outputs": []
    },
    {
      "cell_type": "code",
      "source": [
        "plt.figure(figsize=(20,20))\n",
        "nx.draw_networkx_nodes(tG, pos, node_color=colors, node_size=20)\n",
        "nx.draw_networkx_edges(tG, pos, alpha=0.05)\n",
        "plt.axis('off')\n",
        "plt.show()"
      ],
      "metadata": {
        "id": "D4vfta87JVMh"
      },
      "execution_count": null,
      "outputs": []
    },
    {
      "cell_type": "code",
      "source": [
        "from networkx import edge_betweenness_centrality\n",
        "from random import random\n",
        "\n",
        "def most_valuable_edge(G):\n",
        "    centrality = edge_betweenness_centrality(G)\n",
        "    max_cent = max(centrality.values())\n",
        "    # Scale the centrality values so they are between 0 and 1,\n",
        "    # and add some random noise.\n",
        "    centrality = {e: c / max_cent for e, c in centrality.items()}\n",
        "    # Add some random noise.\n",
        "    centrality = {e: c + random() for e, c in centrality.items()}\n",
        "    return max(centrality, key=centrality.get)"
      ],
      "metadata": {
        "id": "ra3PEVodJekS"
      },
      "execution_count": null,
      "outputs": []
    },
    {
      "cell_type": "code",
      "source": [
        "gn_generator = girvan_newman(tG, most_valuable_edge)"
      ],
      "metadata": {
        "id": "EPnfqrbyJgxZ"
      },
      "execution_count": null,
      "outputs": []
    },
    {
      "cell_type": "code",
      "source": [
        "from itertools import islice\n",
        "gn_communities = next(islice(gn_generator, 3, None)) # Do 3 iterations only"
      ],
      "metadata": {
        "id": "hO22iC5tJiQh"
      },
      "execution_count": null,
      "outputs": []
    },
    {
      "cell_type": "code",
      "source": [
        "type(gn_communities)"
      ],
      "metadata": {
        "id": "fFc78RtXJjxg"
      },
      "execution_count": null,
      "outputs": []
    },
    {
      "cell_type": "code",
      "source": [
        "gn_dict_communities = {}\n",
        "\n",
        "for i, c in enumerate(gn_communities):\n",
        "    print (\"Community {}\".format(i))\n",
        "    for node in c:\n",
        "        gn_dict_communities[node] = i + 1\n",
        "\n",
        "for node in tG:\n",
        "    if node not in gn_dict_communities.keys():\n",
        "        gn_dict_communities[node] = -1"
      ],
      "metadata": {
        "id": "p3N-NQsQJl1Q"
      },
      "execution_count": null,
      "outputs": []
    },
    {
      "cell_type": "code",
      "source": [
        "gn_pos = community_layout(tG, gn_dict_communities)"
      ],
      "metadata": {
        "id": "dVd9NoRXJnlC"
      },
      "execution_count": null,
      "outputs": []
    },
    {
      "cell_type": "code",
      "source": [
        "from matplotlib import cm\n",
        "gn_colors = []\n",
        "for node in tG.nodes:\n",
        "    gn_colors.append(cm.Set1(gn_dict_communities[node]))"
      ],
      "metadata": {
        "id": "WF9Ja_bDJpJK"
      },
      "execution_count": null,
      "outputs": []
    },
    {
      "cell_type": "code",
      "source": [
        "plt.figure(figsize=(20,20))\n",
        "nx.draw_networkx_nodes(tG, gn_pos, node_color=gn_colors, node_size=20)\n",
        "nx.draw_networkx_edges(tG, gn_pos, alpha=0.05)\n",
        "plt.axis('off')\n",
        "plt.show()"
      ],
      "metadata": {
        "id": "HbLC6XpkJq6C"
      },
      "execution_count": null,
      "outputs": []
    }
  ]
}