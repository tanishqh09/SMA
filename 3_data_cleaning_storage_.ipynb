{
  "nbformat": 4,
  "nbformat_minor": 0,
  "metadata": {
    "colab": {
      "provenance": []
    },
    "kernelspec": {
      "name": "python3",
      "display_name": "Python 3"
    },
    "language_info": {
      "name": "python"
    }
  },
  "cells": [
    {
      "cell_type": "code",
      "execution_count": 4,
      "metadata": {
        "colab": {
          "base_uri": "https://localhost:8080/"
        },
        "id": "3F-Y7EHFBsIs",
        "outputId": "e30112e8-ef88-4045-a94e-439c038c1130"
      },
      "outputs": [
        {
          "output_type": "stream",
          "name": "stdout",
          "text": [
            "Cleaning complete. Saved cleaned data to oppo_cleaned_output.csv\n"
          ]
        }
      ],
      "source": [
        "import pandas as pd\n",
        "\n",
        "def clean_csv(input_file, output_file):\n",
        "    # Read the CSV file into a DataFrame\n",
        "    df = pd.read_csv(input_file)\n",
        "\n",
        "    # Trim whitespaces in all columns\n",
        "    df = df.applymap(lambda x: x.strip() if isinstance(x, str) else x)\n",
        "\n",
        "    # Remove duplicates\n",
        "    df.drop_duplicates(inplace=True)\n",
        "\n",
        "    # Save the cleaned data to a new CSV file\n",
        "    df.to_csv(output_file, index=False)\n",
        "\n",
        "    print(\"Cleaning complete. Saved cleaned data to\", output_file)\n",
        "\n",
        "# Input and output file paths\n",
        "input_file = \"/content/sample_data/california_housing_test.csv\"  # Update with your input file path\n",
        "output_file = \"oppo_cleaned_output.csv\"  # Update with your desired output file path\n",
        "\n",
        "# Clean the CSV file\n",
        "clean_csv(input_file, output_file)\n"
      ]
    }
  ]
}